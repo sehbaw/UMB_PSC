{
  "nbformat": 4,
  "nbformat_minor": 0,
  "metadata": {
    "colab": {
      "provenance": [],
      "include_colab_link": true
    },
    "kernelspec": {
      "name": "python3",
      "display_name": "Python 3"
    },
    "language_info": {
      "name": "python"
    }
  },
  "cells": [
    {
      "cell_type": "markdown",
      "metadata": {
        "id": "view-in-github",
        "colab_type": "text"
      },
      "source": [
        "<a href=\"https://colab.research.google.com/github/sehbaw/UMB_PSC/blob/main/Train_Test.ipynb\" target=\"_parent\"><img src=\"https://colab.research.google.com/assets/colab-badge.svg\" alt=\"Open In Colab\"/></a>"
      ]
    },
    {
      "cell_type": "markdown",
      "source": [
        "splits to test - \n",
        "\n",
        "1 - 90/10\n",
        "2 - 80/20\n",
        "3 - 70/30\n",
        "4 - 60/40\n",
        "5 - 50/50\n"
      ],
      "metadata": {
        "id": "6yN-VcyaOjm5"
      }
    },
    {
      "cell_type": "markdown",
      "source": [
        "https://www.simplilearn.com/tutorials/scikit-learn-tutorial/sklearn-linear-regression-with-examples\n",
        "\n",
        "https://scikit-learn.org/stable/auto_examples/linear_model/plot_ols.html\n",
        "\n",
        "https://medium.com/the-code-monster/split-a-dataset-into-train-and-test-datasets-using-sk-learn-acc7fd1802e0c\n",
        "\n",
        "https://www.youtube.com/watch?v=fwY9Qv96DJY\n",
        "\n",
        "https://www.kaggle.com/questions-and-answers/62086"
      ],
      "metadata": {
        "id": "pvmo02U2nefk"
      }
    },
    {
      "cell_type": "code",
      "source": [
        "# 1 \n",
        "\n",
        "import numpy as np\n",
        "import pandas as pd\n",
        "import seaborn as sns\n",
        "import matplotlib.pyplot as plt\n",
        "from sklearn import preprocessing, svm\n",
        "from sklearn.model_selection import train_test_split\n",
        "from sklearn.linear_model import LinearRegression\n",
        "#import the data table\n",
        "df = read_table(\"/inner\")\n",
        "df_binary = df[['Absorbance', 'Category']]\n",
        " \n",
        "# Taking only the selected two attributes from the dataset\n",
        "df_binary.columns = ['Sal', 'Temp']\n",
        "#make a graph -- don't think it is necessary since I have made so many but typically you would do that\n",
        "\n",
        "\n",
        "#this dataset has no nulls but we would remove them here and any other essential cleaning processes\n",
        "\n",
        "\n",
        "x = df[]\n",
        "y = df[]\n",
        "\n",
        "#train and test data\n",
        "x_train, x_test, y_train, y_test = train_test_split(x,y, test_size = 0.1)\n",
        "\n",
        "\n",
        "#train the model\n",
        "clf = LinearRegression()\n",
        "\n",
        "clf.fit(x_train,y_train)\n",
        "\n",
        "clf.predict(x_test)\n",
        "\n",
        "y_test\n",
        "\n",
        "clf.score(x_test, y_test)"
      ],
      "metadata": {
        "id": "7N-RNtzknab2"
      },
      "execution_count": null,
      "outputs": []
    },
    {
      "cell_type": "code",
      "execution_count": null,
      "metadata": {
        "id": "FNsFrMv1Ni7M"
      },
      "outputs": [],
      "source": [
        "#2\n",
        "\n",
        "# 1 \n",
        "\n",
        "import numpy as np\n",
        "import pandas as pd\n",
        "import seaborn as sns\n",
        "import matplotlib.pyplot as plt\n",
        "from sklearn import preprocessing, svm\n",
        "from sklearn.model_selection import train_test_split\n",
        "from sklearn.linear_model import LinearRegression\n",
        "#import the data table\n",
        "df = read_table(\"/inner\")\n",
        "df_binary = df[['Absorbance', 'Category']]\n",
        " \n",
        "# Taking only the selected two attributes from the dataset\n",
        "df_binary.columns = ['Sal', 'Temp']\n",
        "#make a graph -- don't think it is necessary since I have made so many but typically you would do that\n",
        "\n",
        "\n",
        "#this dataset has no nulls but we would remove them here and any other essential cleaning processes\n",
        "\n",
        "\n",
        "x = df[]\n",
        "y = df[]\n",
        "\n",
        "#train and test data\n",
        "x_train, x_test, y_train, y_test = train_test_split(x,y, test_size = 0.2)\n",
        "\n",
        "\n",
        "#train the model\n",
        "clf = LinearRegression()\n",
        "\n",
        "clf.fit(x_train,y_train)\n",
        "\n",
        "clf.predict(x_test)\n",
        "\n",
        "y_test\n",
        "\n",
        "clf.score(x_test, y_test)"
      ]
    },
    {
      "cell_type": "code",
      "source": [
        "# 1 \n",
        "\n",
        "import numpy as np\n",
        "import pandas as pd\n",
        "import seaborn as sns\n",
        "import matplotlib.pyplot as plt\n",
        "from sklearn import preprocessing, svm\n",
        "from sklearn.model_selection import train_test_split\n",
        "from sklearn.linear_model import LinearRegression\n",
        "#import the data table\n",
        "df = read_table(\"/inner\")\n",
        "df_binary = df[['Absorbance', 'Category']]\n",
        " \n",
        "# Taking only the selected two attributes from the dataset\n",
        "df_binary.columns = ['Sal', 'Temp']\n",
        "#make a graph -- don't think it is necessary since I have made so many but typically you would do that\n",
        "\n",
        "\n",
        "#this dataset has no nulls but we would remove them here and any other essential cleaning processes\n",
        "\n",
        "\n",
        "x = df[]\n",
        "y = df[]\n",
        "\n",
        "#train and test data\n",
        "x_train, x_test, y_train, y_test = train_test_split(x,y, test_size = 0.4)\n",
        "\n",
        "\n",
        "#train the model\n",
        "clf = LinearRegression()\n",
        "\n",
        "clf.fit(x_train,y_train)\n",
        "\n",
        "clf.predict(x_test)\n",
        "\n",
        "y_test\n",
        "\n",
        "clf.score(x_test, y_test)"
      ],
      "metadata": {
        "id": "KxVUDiwToCHZ"
      },
      "execution_count": null,
      "outputs": []
    },
    {
      "cell_type": "code",
      "source": [
        "# 1 \n",
        "\n",
        "import numpy as np\n",
        "import pandas as pd\n",
        "import seaborn as sns\n",
        "import matplotlib.pyplot as plt\n",
        "from sklearn import preprocessing, svm\n",
        "from sklearn.model_selection import train_test_split\n",
        "from sklearn.linear_model import LinearRegression\n",
        "#import the data table\n",
        "df = read_table(\"/inner\")\n",
        "df_binary = df[['Absorbance', 'Category']]\n",
        " \n",
        "# Taking only the selected two attributes from the dataset\n",
        "df_binary.columns = ['Sal', 'Temp']\n",
        "#make a graph -- don't think it is necessary since I have made so many but typically you would do that\n",
        "\n",
        "\n",
        "#this dataset has no nulls but we would remove them here and any other essential cleaning processes\n",
        "\n",
        "\n",
        "x = df[]\n",
        "y = df[]\n",
        "\n",
        "#train and test data\n",
        "x_train, x_test, y_train, y_test = train_test_split(x,y, test_size = 0.5)\n",
        "\n",
        "\n",
        "#train the model\n",
        "clf = LinearRegression()\n",
        "\n",
        "clf.fit(x_train,y_train)\n",
        "\n",
        "clf.predict(x_test)\n",
        "\n",
        "y_test\n",
        "\n",
        "clf.score(x_test, y_test)"
      ],
      "metadata": {
        "id": "ZBm5kGbToEAS"
      },
      "execution_count": null,
      "outputs": []
    }
  ]
}