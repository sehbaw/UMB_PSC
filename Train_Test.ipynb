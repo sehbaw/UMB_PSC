{
  "nbformat": 4,
  "nbformat_minor": 0,
  "metadata": {
    "colab": {
      "provenance": [],
      "include_colab_link": true
    },
    "kernelspec": {
      "name": "python3",
      "display_name": "Python 3"
    },
    "language_info": {
      "name": "python"
    }
  },
  "cells": [
    {
      "cell_type": "markdown",
      "metadata": {
        "id": "view-in-github",
        "colab_type": "text"
      },
      "source": [
        "<a href=\"https://colab.research.google.com/github/sehbaw/UMB_PSC/blob/main/Train_Test.ipynb\" target=\"_parent\"><img src=\"https://colab.research.google.com/assets/colab-badge.svg\" alt=\"Open In Colab\"/></a>"
      ]
    },
    {
      "cell_type": "markdown",
      "source": [
        "splits to test -\n",
        "\n",
        "1 - 90/10\n",
        "2 - 80/20\n",
        "3 - 70/30\n",
        "4 - 60/40\n",
        "5 - 50/50\n"
      ],
      "metadata": {
        "id": "6yN-VcyaOjm5"
      }
    },
    {
      "cell_type": "markdown",
      "source": [
        "https://www.simplilearn.com/tutorials/scikit-learn-tutorial/sklearn-linear-regression-with-examples\n",
        "\n",
        "https://scikit-learn.org/stable/auto_examples/linear_model/plot_ols.html\n",
        "\n",
        "https://medium.com/the-code-monster/split-a-dataset-into-train-and-test-datasets-using-sk-learn-acc7fd1802e0c\n",
        "\n",
        "https://www.youtube.com/watch?v=fwY9Qv96DJY\n",
        "\n",
        "https://www.kaggle.com/questions-and-answers/62086\n",
        "\n",
        "https://www.freecodecamp.org/news/learn-how-to-select-the-best-performing-linear-regression-for-univariate-models-e9d429c40581/\n",
        "\n",
        "https://datascience.stackexchange.com/questions/102463/how-do-i-split-correctly-split-my-dataset-into-train-test-and-validation"
      ],
      "metadata": {
        "id": "pvmo02U2nefk"
      }
    },
    {
      "cell_type": "code",
      "source": [
        "# 1\n",
        "\n",
        "import numpy as np\n",
        "import pandas as pd\n",
        "import seaborn as sns\n",
        "import matplotlib.pyplot as plt\n",
        "from sklearn import preprocessing, svm\n",
        "from sklearn.model_selection import train_test_split\n",
        "from sklearn.linear_model import LinearRegression\n",
        "#import the data table\n",
        "df = pd.read_csv(\"/sehba_mishu_inner.csv\")\n",
        "#df_binary = df[['Absorbance', 'Permability (cm/s)', 'Solubility (ml)']]\n",
        "#df_binary.columns = ['Sal', 'Temp']\n",
        "#make a graph -- don't think it is necessary since I have made so many but typically you would do that\n",
        "\n",
        "\n",
        "#this dataset has no nulls but we would remove them here and any other essential cleaning processes\n",
        "\n",
        "\n",
        "x = df[[\"Permeability (cm/s)\", \"Solubility (ml)\"]]\n",
        "y = df[\"Absorbance\"]\n",
        "\n",
        "#train and test data\n",
        "x_train, x_test, y_train, y_test = train_test_split(x,y, test_size = 0.1)\n",
        "\n",
        "\n",
        "#train the model\n",
        "clf = LinearRegression()\n",
        "\n",
        "clf.fit(x_train,y_train)\n",
        "\n",
        "clf.predict(x_test)\n",
        "\n",
        "y_test\n",
        "\n",
        "clf.score(x_test, y_test)"
      ],
      "metadata": {
        "id": "7N-RNtzknab2",
        "colab": {
          "base_uri": "https://localhost:8080/"
        },
        "outputId": "dee5592c-d25e-49cb-aadf-0686f53d7817"
      },
      "execution_count": 7,
      "outputs": [
        {
          "output_type": "execute_result",
          "data": {
            "text/plain": [
              "0.6980178306176547"
            ]
          },
          "metadata": {},
          "execution_count": 7
        }
      ]
    },
    {
      "cell_type": "code",
      "source": [
        "import numpy as np\n",
        "import pandas as pd\n",
        "import seaborn as sns\n",
        "import matplotlib.pyplot as plt\n",
        "from sklearn import preprocessing\n",
        "from sklearn.model_selection import train_test_split\n",
        "from sklearn.linear_model import LinearRegression\n",
        "\n",
        "# Import the data table\n",
        "df = pd.read_csv(\"/sehba_mishu_inner.csv\")\n",
        "\n",
        "# Select relevant columns for x and y\n",
        "x = df[[\"Permeability (cm/s)\", \"Solubility (ml)\"]]\n",
        "y = df[\"Absorbance\"]\n",
        "\n",
        "# Define the golden zone range for y\n",
        "golden_zone_min = 0.35\n",
        "golden_zone_max = 0.54\n",
        "\n",
        "# Create a boolean mask to filter the golden zone samples\n",
        "golden_zone_mask = (y >= golden_zone_min) & (y <= golden_zone_max)\n",
        "\n",
        "# Split the data into training, testing, and validation sets\n",
        "x_train, x_test, y_train, y_test = train_test_split(x[~golden_zone_mask], y[~golden_zone_mask], test_size=0.2, random_state=42)\n",
        "x_val, y_val = x[golden_zone_mask], y[golden_zone_mask]\n",
        "\n",
        "# Preprocess the data (scaling, handling missing values, etc.) if required\n",
        "# Here, we will only scale the data for demonstration purposes\n",
        "scaler = preprocessing.StandardScaler()\n",
        "x_train_scaled = scaler.fit_transform(x_train)\n",
        "x_test_scaled = scaler.transform(x_test)\n",
        "x_val_scaled = scaler.transform(x_val)\n",
        "\n",
        "# Train the model\n",
        "clf = LinearRegression()\n",
        "clf.fit(x_train_scaled, y_train)\n",
        "\n",
        "# Predict on the test set and validation set\n",
        "y_pred_test = clf.predict(x_test_scaled)\n",
        "y_pred_val = clf.predict(x_val_scaled)\n",
        "\n",
        "# Calculate the model's score (R-squared) on the test set and validation set\n",
        "score_test = clf.score(x_test_scaled, y_test)\n",
        "score_val = clf.score(x_val_scaled, y_val)\n",
        "\n",
        "print(\"Test Set Score (R-squared):\", score_test)\n",
        "print(\"Validation Set Score (R-squared):\", score_val)"
      ],
      "metadata": {
        "colab": {
          "base_uri": "https://localhost:8080/"
        },
        "id": "W2E2MYag1Hyk",
        "outputId": "3397f117-88a0-43ec-f1c0-e2956ed0efb0"
      },
      "execution_count": 3,
      "outputs": [
        {
          "output_type": "stream",
          "name": "stdout",
          "text": [
            "Test Set Score (R-squared): 0.6994121842856296\n",
            "Validation Set Score (R-squared): -3.1963420387296635\n"
          ]
        }
      ]
    },
    {
      "cell_type": "code",
      "source": [
        "import numpy as np\n",
        "import pandas as pd\n",
        "import seaborn as sns\n",
        "import matplotlib.pyplot as plt\n",
        "from sklearn import preprocessing\n",
        "from sklearn.model_selection import train_test_split\n",
        "from sklearn.linear_model import LinearRegression\n",
        "\n",
        "# Import the data table\n",
        "df = pd.read_csv(\"/sehba_mishu_inner.csv\")\n",
        "\n",
        "# Select relevant columns for x and y\n",
        "#x = df[[\"Permeability (cm/s)\", \"Solubility (ml)\"]]\n",
        "x = [\"Solubility (ml)\"]\n",
        "y = df[\"Absorbance\"]\n",
        "\n",
        "# Define the golden zone\n",
        "golden_zone_min = 0.35\n",
        "golden_zone_max = 0.54\n",
        "\n",
        "#mask for the golden zone\n",
        "golden_zone_mask = (y >= golden_zone_min) & (y <= golden_zone_max)\n",
        "\n",
        "# Split the data into training, testing, and validation sets\n",
        "x_train, x_test, y_train, y_test = train_test_split(x[~golden_zone_mask], y[~golden_zone_mask], test_size=0.5, random_state=42)\n",
        "x_val, y_val = x[golden_zone_mask], y[golden_zone_mask]\n",
        "\n",
        "# Preprocess the data (scaling, handling missing values, etc.) if required\n",
        "scaler = preprocessing.StandardScaler()\n",
        "x_train_scaled = scaler.fit_transform(x_train)\n",
        "x_test_scaled = scaler.transform(x_test)\n",
        "x_val_scaled = scaler.transform(x_val)\n",
        "\n",
        "#training model\n",
        "clf = LinearRegression()\n",
        "clf.fit(x_train_scaled, y_train)\n",
        "\n",
        "# Predict model\n",
        "y_pred_test = clf.predict(x_test_scaled)\n",
        "y_pred_val = clf.predict(x_val_scaled)\n",
        "\n",
        "# Calculate the model's score\n",
        "score_test = clf.score(x_test_scaled, y_test)\n",
        "score_val = clf.score(x_val_scaled, y_val)\n",
        "\n",
        "print(\"Test Set Score (R-squared):\", score_test)\n",
        "print(\"Validation Set Score (R-squared):\", score_val)\n",
        "\n",
        "import seaborn as sns\n",
        "sns.scatterplot(x=\"FlyAsh\", y=\"Strength\", data=con);"
      ],
      "metadata": {
        "colab": {
          "base_uri": "https://localhost:8080/",
          "height": 244
        },
        "id": "DS1UQX5b1WFm",
        "outputId": "da3db4d2-16a0-41be-bed7-7e0a7e2bd436"
      },
      "execution_count": 7,
      "outputs": [
        {
          "output_type": "error",
          "ename": "TypeError",
          "evalue": "ignored",
          "traceback": [
            "\u001b[0;31m---------------------------------------------------------------------------\u001b[0m",
            "\u001b[0;31mTypeError\u001b[0m                                 Traceback (most recent call last)",
            "\u001b[0;32m<ipython-input-7-09aee0259cee>\u001b[0m in \u001b[0;36m<cell line: 25>\u001b[0;34m()\u001b[0m\n\u001b[1;32m     23\u001b[0m \u001b[0;34m\u001b[0m\u001b[0m\n\u001b[1;32m     24\u001b[0m \u001b[0;31m# Split the data into training, testing, and validation sets\u001b[0m\u001b[0;34m\u001b[0m\u001b[0;34m\u001b[0m\u001b[0m\n\u001b[0;32m---> 25\u001b[0;31m \u001b[0mx_train\u001b[0m\u001b[0;34m,\u001b[0m \u001b[0mx_test\u001b[0m\u001b[0;34m,\u001b[0m \u001b[0my_train\u001b[0m\u001b[0;34m,\u001b[0m \u001b[0my_test\u001b[0m \u001b[0;34m=\u001b[0m \u001b[0mtrain_test_split\u001b[0m\u001b[0;34m(\u001b[0m\u001b[0mx\u001b[0m\u001b[0;34m[\u001b[0m\u001b[0;34m~\u001b[0m\u001b[0mgolden_zone_mask\u001b[0m\u001b[0;34m]\u001b[0m\u001b[0;34m,\u001b[0m \u001b[0my\u001b[0m\u001b[0;34m[\u001b[0m\u001b[0;34m~\u001b[0m\u001b[0mgolden_zone_mask\u001b[0m\u001b[0;34m]\u001b[0m\u001b[0;34m,\u001b[0m \u001b[0mtest_size\u001b[0m\u001b[0;34m=\u001b[0m\u001b[0;36m0.5\u001b[0m\u001b[0;34m,\u001b[0m \u001b[0mrandom_state\u001b[0m\u001b[0;34m=\u001b[0m\u001b[0;36m42\u001b[0m\u001b[0;34m)\u001b[0m\u001b[0;34m\u001b[0m\u001b[0;34m\u001b[0m\u001b[0m\n\u001b[0m\u001b[1;32m     26\u001b[0m \u001b[0mx_val\u001b[0m\u001b[0;34m,\u001b[0m \u001b[0my_val\u001b[0m \u001b[0;34m=\u001b[0m \u001b[0mx\u001b[0m\u001b[0;34m[\u001b[0m\u001b[0mgolden_zone_mask\u001b[0m\u001b[0;34m]\u001b[0m\u001b[0;34m,\u001b[0m \u001b[0my\u001b[0m\u001b[0;34m[\u001b[0m\u001b[0mgolden_zone_mask\u001b[0m\u001b[0;34m]\u001b[0m\u001b[0;34m\u001b[0m\u001b[0;34m\u001b[0m\u001b[0m\n\u001b[1;32m     27\u001b[0m \u001b[0;34m\u001b[0m\u001b[0m\n",
            "\u001b[0;31mTypeError\u001b[0m: list indices must be integers or slices, not Series"
          ]
        }
      ]
    },
    {
      "cell_type": "code",
      "execution_count": 8,
      "metadata": {
        "id": "FNsFrMv1Ni7M",
        "colab": {
          "base_uri": "https://localhost:8080/",
          "height": 134
        },
        "outputId": "1d6c3568-43da-429b-d3ff-591cb7cb5288"
      },
      "outputs": [
        {
          "output_type": "error",
          "ename": "SyntaxError",
          "evalue": "ignored",
          "traceback": [
            "\u001b[0;36m  File \u001b[0;32m\"<ipython-input-8-d4060e4c6149>\"\u001b[0;36m, line \u001b[0;32m23\u001b[0m\n\u001b[0;31m    x = df[]\u001b[0m\n\u001b[0m           ^\u001b[0m\n\u001b[0;31mSyntaxError\u001b[0m\u001b[0;31m:\u001b[0m invalid syntax\n"
          ]
        }
      ],
      "source": [
        "#2\n",
        "\n",
        "\n",
        "import numpy as np\n",
        "import pandas as pd\n",
        "import seaborn as sns\n",
        "import matplotlib.pyplot as plt\n",
        "from sklearn import preprocessing, svm\n",
        "from sklearn.model_selection import train_test_split\n",
        "from sklearn.linear_model import LinearRegression\n",
        "#import the data table\n",
        "\n",
        "#make a graph -- don't think it is necessary since I have made so many but typically you would do that\n",
        "\n",
        "\n",
        "#this dataset has no nulls but we would remove them here and any other essential cleaning processes\n",
        "x = df[[\"Permeability (cm/s)\", \"Solubility (ml)\"]]\n",
        "y = df[\"Absorbance\"]\n",
        "\n",
        "\n",
        "\n",
        "\n",
        "#train and test data\n",
        "x_train, x_test, y_train, y_test = train_test_split(x,y, test_size = 0.2)\n",
        "\n",
        "\n",
        "#train the model\n",
        "clf = LinearRegression()\n",
        "\n",
        "clf.fit(x_train,y_train)\n",
        "\n",
        "clf.predict(x_test)\n",
        "\n",
        "y_test\n",
        "\n",
        "clf.score(x_test, y_test)"
      ]
    },
    {
      "cell_type": "code",
      "source": [
        "# 3\n",
        "\n",
        "import numpy as np\n",
        "import pandas as pd\n",
        "import seaborn as sns\n",
        "import matplotlib.pyplot as plt\n",
        "from sklearn import preprocessing, svm\n",
        "from sklearn.model_selection import train_test_split\n",
        "from sklearn.linear_model import LinearRegression\n",
        "#import the data table\n",
        "df = read_table(\"/inner\")\n",
        "df_binary = df[['Absorbance', 'Category']]\n",
        "\n",
        "# Taking only the selected two attributes from the dataset\n",
        "df_binary.columns = ['Sal', 'Temp']\n",
        "#make a graph -- don't think it is necessary since I have made so many but typically you would do that\n",
        "\n",
        "\n",
        "#this dataset has no nulls but we would remove them here and any other essential cleaning processes\n",
        "\n",
        "\n",
        "x = df[]\n",
        "y = df[]\n",
        "\n",
        "#train and test data\n",
        "x_train, x_test, y_train, y_test = train_test_split(x,y, test_size = 0.4)\n",
        "\n",
        "\n",
        "#train the model\n",
        "clf = LinearRegression()\n",
        "\n",
        "clf.fit(x_train,y_train)\n",
        "\n",
        "clf.predict(x_test)\n",
        "\n",
        "y_test\n",
        "\n",
        "clf.score(x_test, y_test)"
      ],
      "metadata": {
        "id": "KxVUDiwToCHZ"
      },
      "execution_count": null,
      "outputs": []
    },
    {
      "cell_type": "code",
      "source": [
        "# 4\n",
        "\n",
        "import numpy as np\n",
        "import pandas as pd\n",
        "import seaborn as sns\n",
        "import matplotlib.pyplot as plt\n",
        "from sklearn import preprocessing, svm\n",
        "from sklearn.model_selection import train_test_split\n",
        "from sklearn.linear_model import LinearRegression\n",
        "#import the data table\n",
        "df = read_table(\"/inner\")\n",
        "df_binary = df[['Absorbance', 'Category']]\n",
        "\n",
        "# Taking only the selected two attributes from the dataset\n",
        "df_binary.columns = ['Sal', 'Temp']\n",
        "#make a graph -- don't think it is necessary since I have made so many but typically you would do that\n",
        "\n",
        "\n",
        "#this dataset has no nulls but we would remove them here and any other essential cleaning processes\n",
        "\n",
        "\n",
        "x = df[]\n",
        "y = df[]\n",
        "\n",
        "#train and test data\n",
        "x_train, x_test, y_train, y_test = train_test_split(x,y, test_size = 0.5)\n",
        "\n",
        "\n",
        "#train the model\n",
        "clf = LinearRegression()\n",
        "\n",
        "clf.fit(x_train,y_train)\n",
        "\n",
        "clf.predict(x_test)\n",
        "\n",
        "y_test\n",
        "\n",
        "clf.score(x_test, y_test)"
      ],
      "metadata": {
        "id": "ZBm5kGbToEAS"
      },
      "execution_count": null,
      "outputs": []
    },
    {
      "cell_type": "code",
      "source": [
        "#5\n",
        "import numpy as np\n",
        "import pandas as pd\n",
        "import seaborn as sns\n",
        "import matplotlib.pyplot as plt\n",
        "from sklearn import preprocessing, svm\n",
        "from sklearn.model_selection import train_test_split\n",
        "from sklearn.linear_model import LinearRegression\n",
        "#import the data table\n",
        "df = read_table(\"/inner\")\n",
        "df_binary = df[['Absorbance', 'Category']]\n",
        "\n",
        "# Taking only the selected two attributes from the dataset\n",
        "df_binary.columns = ['Sal', 'Temp']\n",
        "#make a graph -- don't think it is necessary since I have made so many but typically you would do that\n",
        "\n",
        "\n",
        "#this dataset has no nulls but we would remove them here and any other essential cleaning processes\n",
        "\n",
        "\n",
        "x = df[]\n",
        "y = df[]\n",
        "\n",
        "#train and test data\n",
        "x_train, x_test, y_train, y_test = train_test_split(x,y, test_size = 0.5)\n",
        "\n",
        "\n",
        "#train the model\n",
        "clf = LinearRegression()\n",
        "\n",
        "clf.fit(x_train,y_train)\n",
        "\n",
        "clf.predict(x_test)\n",
        "\n",
        "y_test\n",
        "\n",
        "clf.score(x_test, y_test)"
      ],
      "metadata": {
        "id": "lwYfPPRpM_Rz"
      },
      "execution_count": null,
      "outputs": []
    }
  ]
}