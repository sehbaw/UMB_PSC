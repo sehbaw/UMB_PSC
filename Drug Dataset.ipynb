{
 "cells": [
  {
   "cell_type": "markdown",
   "id": "ee4c4cf8",
   "metadata": {},
   "source": [
    "ctrl+shift+p for command palette"
   ]
  },
  {
   "cell_type": "code",
   "execution_count": null,
   "id": "937b630d",
   "metadata": {},
   "outputs": [],
   "source": [
    "#quick sample\n",
    "import pandas as pd\n",
    "\n",
    "data = {'ID': ['1900', '1901', '1902', '1903', '1903'],\n",
    "        'Drug': [\"\",\"\",\"\"]\n",
    "        }\n",
    "\n",
    "df = pd.DataFrame(data)\n",
    "\n",
    "print(df)"
   ]
  },
  {
   "cell_type": "code",
   "execution_count": null,
   "id": "fb5fdaf9",
   "metadata": {},
   "outputs": [],
   "source": [
    "#generate the alphanumeric ID\n",
    "\n",
    "import random, string\n",
    "#string.ascii_uppercase - if I wanted to do both\n",
    "x = ''.join(random.choice(string.ascii_lowercase + string.digits) for i in range(8))\n",
    "print(x)\n"
   ]
  },
  {
   "cell_type": "markdown",
   "id": "730f5431",
   "metadata": {},
   "source": [
    "n_points = 10000\n",
    "\n",
    "points = [] #should be an array or a series? since we are using pandas\n",
    "for i in range(n_points):\n"
   ]
  },
  {
   "cell_type": "code",
   "execution_count": null,
   "id": "f0f63bae",
   "metadata": {},
   "outputs": [],
   "source": [
    "#quick sample\n",
    "import pandas as pd\n",
    "import numpy as np \n",
    "\n",
    "data = {#'ID': generate_id(),\n",
    "        #'Drug': np.random.normal(0.4, 0.025, size=(0.2, 0.6)) \n",
    "        'Drug': np.random.normal(0.4, 0.025, size=None) \n",
    "        }\n",
    "\n",
    "df = pd.DataFrame(data)\n",
    "\n",
    "print(df)"
   ]
  },
  {
   "cell_type": "code",
   "execution_count": null,
   "id": "2c79a8f1",
   "metadata": {
    "scrolled": true
   },
   "outputs": [],
   "source": [
    "#without the ASCII\n",
    "import random, string\n",
    "#for \n",
    "x = ''.join(random.choice(string.digits) for i in range(8))\n",
    "print(x)"
   ]
  },
  {
   "cell_type": "markdown",
   "id": "4ebe4f44",
   "metadata": {},
   "source": [
    "//////////////////////////////////////////////////////////////////////////////////////////////////////////////////////////////"
   ]
  },
  {
   "cell_type": "code",
   "execution_count": null,
   "id": "54f94119",
   "metadata": {},
   "outputs": [],
   "source": [
    "import pandas as pd\n",
    "import random\n",
    "import random, string \n",
    "n_points = 10000\n",
    "\n",
    "x = ''.join(random.choice(string.digits) for _ in range(8))\n",
    "print(x)\n",
    "\n",
    "# dictionary to store the data\n",
    "\n",
    "#for n in range(10000):\n",
    "    #would a list comprehension be better? \n",
    "# np.random.rand(n_points)\n",
    "data = {\n",
    "    'ID': np.random.rand(n_points),\n",
    "    \"Absorbance\": \n",
    "}\n",
    "\n",
    "# Create a DataFrame from the dictionary\n",
    "df = pd.DataFrame(data)\n",
    "\n",
    "#how do we want to inspect the data? head() isn't really applicable here"
   ]
  },
  {
   "cell_type": "code",
   "execution_count": null,
   "id": "1b60d871",
   "metadata": {},
   "outputs": [],
   "source": []
  },
  {
   "cell_type": "markdown",
   "id": "ecfcb0be",
   "metadata": {},
   "source": [
    "# working code starts here. "
   ]
  },
  {
   "cell_type": "code",
   "execution_count": null,
   "id": "ff33b245",
   "metadata": {},
   "outputs": [],
   "source": [
    "import pandas as pd\n",
    "import numpy as np\n",
    "import random, string\n",
    "\n",
    "\n",
    "#id = ''.join(random.choice(string.ascii_lowercase + string.digits) for i in range(8))\n",
    "# create a range of sample IDs\n",
    "#sample_ids = [f' ID {id}' for i in range(10000)] #this code doesnt work because it will not generate a new \n",
    "\n",
    "def generate_id():\n",
    "    return ''.join(random.choice(string.ascii_lowercase + string.digits) for i in range(8))\n",
    "\n",
    "# create a range of sample IDs\n",
    "sample_ids = [f'ID {generate_id()}' for i in range(10000)]\n",
    "\n",
    "#generate date\n",
    "date = pd.date_range('2023-01-03', '2023-01-31') # over the span of a month \n",
    "\n",
    "#generate temp\n",
    "temp = [np.random.uniform(21,24) for i in range(10000)] #these are decimals because that is the only way I could \n",
    "\n",
    "# generate in a range \n",
    "absorbances = np.random.normal(0.3, 0.6, size=10000)\n",
    "\n",
    "target_absorbances = (absorbances >= 0.35) & (absorbances <= 0.54)\n",
    "sample = np.array(sample_ids)[target_absorbances][:1000]\n",
    "\n",
    "# create a dataframe\n",
    "data = pd.DataFrame({'Sample ID': sample_ids,\n",
    "                     'Temp': temp,\n",
    "                     'Date': np.random.choice(date, size=10000), # had to add a size because other generated the same date\n",
    "                     'Absorbance': np.random.choice(absorbances, size=10000)})\n",
    "\n",
    "data.to_csv(index=False)\n",
    "\n"
   ]
  },
  {
   "cell_type": "code",
   "execution_count": null,
   "id": "912a2a6b",
   "metadata": {},
   "outputs": [],
   "source": [
    "#filtering the target absorbance to make sure that there are at least 1000 data points..not sure if this is the best way to handle this though\n",
    "\n",
    "target_absorbances = (absorbances >= 0.35) & (absorbances <= 0.54)\n",
    "sample = np.array(sample_ids)[target_absorbances][:1000] #we want to use "
   ]
  },
  {
   "cell_type": "code",
   "execution_count": null,
   "id": "cb3be4c9",
   "metadata": {},
   "outputs": [],
   "source": [
    "#plot the data "
   ]
  },
  {
   "cell_type": "code",
   "execution_count": null,
   "id": "2f66b3a6",
   "metadata": {},
   "outputs": [],
   "source": [
    "#if we want to send csv to a zcop \n",
    "compression_opts = dict(method='zip',\n",
    "                        archive_name='candidate.csv')  \n",
    "data.to_csv('candidate.zip', index=False,\n",
    "          compression=compression_opts) \n"
   ]
  },
  {
   "cell_type": "markdown",
   "id": "5c2dd83a",
   "metadata": {},
   "source": [
    "# Dirtying the Data "
   ]
  },
  {
   "cell_type": "code",
   "execution_count": null,
   "id": "abe9f3dd",
   "metadata": {},
   "outputs": [],
   "source": [
    "#dirtying int the data \n",
    "    #randomly insert null values \n",
    "        # set the probability of a cell being set to NA\n",
    "            #need to \n",
    "        # loop through the DataFrame and set some values to NA\n",
    "            for i in range(len(data)):\n",
    "                for col in data.columns:\n",
    "                    if random.random() < probability:\n",
    "                        df.at[i, col] = np.nan #.loc doesn't really apply here "
   ]
  },
  {
   "cell_type": "markdown",
   "id": "ef024d37",
   "metadata": {},
   "source": [
    "How can we dirty the data? \n",
    "- Null values randomnly inserted or replaced\n",
    "- outliers can be found in initial data but also could implement our own\n",
    "- throw in spaces...not necessarily null values but just break upthe data kinda with random cells \n",
    "- can combine cells with two points together seperated by a comma and they have to break those\n",
    "- trailing spaces and white spaces\n",
    "- maybe have to perform data transformation\n"
   ]
  },
  {
   "cell_type": "markdown",
   "id": "050690f0",
   "metadata": {},
   "source": [
    "# visualization - mix of pyplot and seaborn \n"
   ]
  },
  {
   "cell_type": "code",
   "execution_count": null,
   "id": "c2b5c8ff",
   "metadata": {},
   "outputs": [],
   "source": [
    "    #https://seaborn.pydata.org/examples/layered_bivariate_plot.html \n",
    "    \n",
    "#relplot obviously \n",
    "\n",
    "#i have more drawings of this than code so I am gonna work on making the drawings into code. \n",
    "\n",
    "    "
   ]
  }
 ],
 "metadata": {
  "kernelspec": {
   "display_name": "Python 3 (ipykernel)",
   "language": "python",
   "name": "python3"
  },
  "language_info": {
   "codemirror_mode": {
    "name": "ipython",
    "version": 3
   },
   "file_extension": ".py",
   "mimetype": "text/x-python",
   "name": "python",
   "nbconvert_exporter": "python",
   "pygments_lexer": "ipython3",
   "version": "3.9.7"
  }
 },
 "nbformat": 4,
 "nbformat_minor": 5
}
