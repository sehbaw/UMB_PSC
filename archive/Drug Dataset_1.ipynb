{
 "cells": [
  {
   "cell_type": "markdown",
   "id": "ee4c4cf8",
   "metadata": {},
   "source": [
    "ctrl+shift+p for command palette"
   ]
  },
  {
   "cell_type": "code",
   "execution_count": null,
   "id": "cf8c5ae4",
   "metadata": {},
   "outputs": [],
   "source": [
    "pwd"
   ]
  },
  {
   "cell_type": "markdown",
   "id": "4ebe4f44",
   "metadata": {},
   "source": [
    "//////////////////////////////////////////////////////////////////////////////////////////////////////////////////////////////"
   ]
  },
  {
   "cell_type": "markdown",
   "id": "ecfcb0be",
   "metadata": {},
   "source": [
    "# working code starts here. "
   ]
  },
  {
   "cell_type": "code",
   "execution_count": 8,
   "id": "25325e5c",
   "metadata": {},
   "outputs": [],
   "source": [
    "#testing..main one\n",
    "import pandas as pd\n",
    "import numpy as np\n",
    "import random, string\n",
    "\n",
    "\n",
    "#id = ''.join(random.choice(string.ascii_lowercase + string.digits) for i in range(8))\n",
    "# create a range of sample IDs\n",
    "#sample_ids = [f' ID {id}' for i in range(10000)] #this code doesnt work because it will not generate a new \n",
    "\n",
    "def generate_id():\n",
    "    return ''.join(random.choice(string.ascii_lowercase + string.digits) for i in range(8))\n",
    "\n",
    "# create a range of sample IDs\n",
    "sample_ids = [f'ID {generate_id()}' for i in range(10000)]\n",
    "\n",
    "#generate date\n",
    "date = pd.date_range('2023-01-03', '2023-01-31') # over the span of a month \n",
    "\n",
    "#generate temp\n",
    "temp = [np.random.uniform(21,24) for i in range(10000)] #these are decimals because that is the only way I could \n",
    "\n",
    "# generate in a range \n",
    "absorbances = np.clip(np.random.normal(0.15, 0.84, size=10000), a_min = 0.15, a_max=0.92)\n",
    "\n",
    "#quick to check to see if we are at \n",
    "\n",
    "#for np.sum((absorbances >= 0.34) & (absorbances <= 0.54)) <=10000:\n",
    "    #absorbances=np.clip(np.random.normal(0.21, 0.84, size=10000), a_min = 0.15, a_max=0.9)\n",
    "    #absorbances = np.random.normal(0.21, 0.84, size=1000)\n",
    "    \n",
    "#print(absorbances)\n",
    "    \n",
    "range_points = (absorbances == 0.35) & (absorbances == 0.54)\n",
    "while len(range_points) < 1000:\n",
    "    new_points = [np.random.normal(0.15, 0.84) for i in range(1000)]\n",
    "    range_points += [p for p in new_points if p >= 0.35 and p <= 0.54]\n",
    "    \n",
    "#sample = np.array(target_absorbances)[target_absorbances][:1000]\n",
    "\n",
    "\n",
    "\n",
    "#create the dataframe to put generated data\n",
    "drug_candidate = pd.DataFrame({'Sample ID': sample_ids,\n",
    "                     'Temp': temp,\n",
    "                     'Date': np.random.choice(date, size=10000), # had to add a size because other generated the same date\n",
    "                     'Absorbance': np.random.choice(absorbances, size=10000)})\n",
    "\n",
    "#data.to_csv(index=False)\n",
    "\n",
    "\n",
    "        \n",
    "drug_candidate.to_csv('drug_candidate.txt', sep='\\t', index=False, header=[\"Sample ID\",\"Temp\",\"Date\",\"Absorbance\"])\n",
    "\n",
    "\n",
    "    #NEED TO FIX THIS -- the insert null data function is doing this to me why \n",
    "#df = drug_candidate.apply(insert_null_data(drug_candidate))\n",
    "#print(df)\n",
    "\n"
   ]
  },
  {
   "cell_type": "markdown",
   "id": "ade7b7c6",
   "metadata": {},
   "source": [
    "# Search and Set Data \n"
   ]
  },
  {
   "cell_type": "code",
   "execution_count": 9,
   "id": "912a2a6b",
   "metadata": {},
   "outputs": [],
   "source": [
    "#filtering the target absorbance to make sure that there are at least 1000 data points..not sure if this is the best way to handle this though\n",
    "\n",
    "#target_absorbances = (absorbances >= 0.35) & (absorbances <= 0.54) #this is essentially useless because doesn't respect the structure of the dataframe just is a conditional essentially \n",
    "#sample = np.array(sample_ids)[target_absorbances][:1000] #we want to use \n",
    "\n",
    "drug_cand = drug_candidate\n",
    "\n",
    "# ---  actual filter that is then sent to a txt file. \n",
    "filtered_df = drug_cand[(drug_cand[\"Absorbance\"] >= 0.35) & (drug_cand['Absorbance'] <= 0.54)]\n",
    "filtered_df.to_csv('filtered_df.txt', sep='\\t', index=False, header=[\"Sample ID\",\"Temp\",\"Date\",\"Absorbance\"])\n",
    "\n",
    "\n",
    "# display the filtered DataFrame\n"
   ]
  },
  {
   "cell_type": "code",
   "execution_count": null,
   "id": "be4a92b1",
   "metadata": {},
   "outputs": [],
   "source": []
  },
  {
   "cell_type": "code",
   "execution_count": null,
   "id": "2f66b3a6",
   "metadata": {},
   "outputs": [],
   "source": [
    "#if we want to send csv to a zcop \n",
    "compression_opts = dict(method='zip',\n",
    "                        archive_name='candidate.csv')  \n",
    "data.to_csv('candidate.zip', index=False,\n",
    "          compression=compression_opts) \n"
   ]
  },
  {
   "cell_type": "markdown",
   "id": "5c2dd83a",
   "metadata": {},
   "source": [
    "# Dirtying the Data "
   ]
  },
  {
   "cell_type": "code",
   "execution_count": null,
   "id": "abe9f3dd",
   "metadata": {},
   "outputs": [],
   "source": [
    "#dirtying int the data \n",
    "    #randomly insert null values \n",
    "        # set the probability of a cell being set to NA\n",
    "def insert_null_data(dataset): #don't believe this needs a parameter\n",
    "    probability = 0.03 #want to keep the number small \n",
    "# loop through the DataFrame and set some values to NA\n",
    "    for i in range(len(drug_candidate): \n",
    "         for col in drug_candidate.columns:\n",
    "            if random.random() < probability:\n",
    "                 df.at[i, col] = np.nan #.loc doesn't really apply here "
   ]
  },
  {
   "cell_type": "markdown",
   "id": "ef024d37",
   "metadata": {},
   "source": [
    "How can we dirty the data? \n",
    "- Null values randomnly inserted or replaced\n",
    "- outliers can be found in initial data but also could implement our own\n",
    "- throw in spaces...not necessarily null values but just break upthe data kinda with random cells \n",
    "- can combine cells with two points together seperated by a comma and they have to break those\n",
    "- trailing spaces and white spaces\n",
    "- maybe have to perform data transformation -- why did I put this here. \n"
   ]
  },
  {
   "cell_type": "markdown",
   "id": "050690f0",
   "metadata": {},
   "source": [
    "# visualization - mix of pyplot and seaborn \n"
   ]
  },
  {
   "cell_type": "code",
   "execution_count": null,
   "id": "c2b5c8ff",
   "metadata": {},
   "outputs": [],
   "source": [
    "    #https://seaborn.pydata.org/examples/layered_bivariate_plot.html \n",
    "    \n",
    "#relplot obviously \n",
    "\n",
    "#i have more drawings of this than code so I am gonna work on making the drawings into code. \n",
    "# https://www.geeksforgeeks.org/how-to-set-axes-labels-limits-in-a-seaborn-plot/  -- set limits w/pyplot\n",
    "\n",
    "\n",
    "    "
   ]
  },
  {
   "cell_type": "code",
   "execution_count": null,
   "id": "307e5948",
   "metadata": {},
   "outputs": [],
   "source": [
    "#unfiltered data \n",
    "import seaborn as sns \n",
    "import matplotlib.pyplot as plt\n",
    "candidate = drug_candidate\n",
    "sns.scatterplot(data=drug_candidate, x=\"Temp\", y=\"Absorbance\")\n",
    "#took out size parameter\n",
    "#sns.jointplot(data=drug_candidate[(drug_candidate[\"Absorbance\"] >= 0.35) & (drug_candidate[\"Absorbance\"] <= 0.54)], x=\"Temp\", y=\"Absorbance\", hue=\"Range\", palette=[\"pastel\"], marker=\"o\", edgecolor=\"black\", linewidth=0.5)\n",
    "\n",
    "highlighted_data = candidate[(candidate[\"Absorbance\"] >= 0.35) & (candidate[\"Absorbance\"] <= 0.54)]\n",
    "sns.scatterplot(data=highlighted_data, x=\"Temp\", y=\"Absorbance\", color=\"red\", s=50, alpha=0.5) #was aiming for hue \n",
    "#legend set? \n",
    "\n",
    "#plt.axvspan(20, 30, color='gray', alpha=0.5)\n",
    "\n",
    "#need to change axes limit -- set limit not working!!!\n",
    "\n",
    "#Axes.set_ylim(left=0, right=0.9, emit=True, auto=False, xmin=None, xmax=None)\n",
    "plt.ylim(0.1 , 1.01) #go beyond the the wanted limit \n",
    "\n",
    "plt.ylim(0.1, 1.04,0.1)\n",
    "\n",
    "#Graph Title -- \n",
    "\n",
    "\n",
    "\n",
    "\n",
    "\n",
    "\n"
   ]
  },
  {
   "cell_type": "code",
   "execution_count": null,
   "id": "07b2a8a2",
   "metadata": {
    "scrolled": true
   },
   "outputs": [],
   "source": [
    "#regression line\n",
    "#sns.lmplot(data=drug_candidate, x='Temp', y='Absorbance')\n",
    "#unfiltered data \n",
    "import seaborn as sns \n",
    "import matplotlib.pyplot as plt\n",
    "candidate = filtered_df\n",
    "sns.lmplot(data=candidate, x=\"Temp\", y=\"Absorbance\")\n",
    "#took out size parameter\n",
    "#sns.jointplot(data=drug_candidate[(drug_candidate[\"Absorbance\"] >= 0.35) & (drug_candidate[\"Absorbance\"] <= 0.54)], x=\"Temp\", y=\"Absorbance\", hue=\"Range\", palette=[\"pastel\"], marker=\"o\", edgecolor=\"black\", linewidth=0.5)\n",
    "\n",
    "highlighted_data = candidate[(candidate[\"Absorbance\"] >= 0.35) & (candidate[\"Absorbance\"] <= 0.54)]\n",
    "sns.scatterplot(data=highlighted_data, x=\"Temp\", y=\"Absorbance\", color=\"grey\", s=50, alpha=0.5) #was aiming for hue \n",
    "#legend set? \n",
    "\n",
    "#plt.axvspan(20, 30, color='gray', alpha=0.5)\n",
    "\n",
    "#need to change axes limit -- set limit not working!!!\n",
    "\n",
    "#Axes.set_ylim(left=0, right=0.9, emit=True, auto=False, xmin=None, xmax=None)\n",
    "plt.ylim(0.1 , 1.01) #go beyond the the wanted limit \n",
    "\n",
    "plt.ylim(0.3, 0.6)\n",
    "\n",
    "#Graph Title -- "
   ]
  },
  {
   "cell_type": "code",
   "execution_count": null,
   "id": "8d5fee0b",
   "metadata": {},
   "outputs": [],
   "source": []
  },
  {
   "cell_type": "markdown",
   "id": "7ea14387",
   "metadata": {},
   "source": [
    "# extra"
   ]
  },
  {
   "cell_type": "code",
   "execution_count": null,
   "id": "937b630d",
   "metadata": {},
   "outputs": [],
   "source": [
    "#quick sample\n",
    "import pandas as pd\n",
    "\n",
    "data = {'ID': ['1900', '1901', '1902', '1903', '1903'],\n",
    "        'Drug': [\"\",\"\",\"\"]\n",
    "        }\n",
    "\n",
    "df = pd.DataFrame(data)\n",
    "\n",
    "print(df)"
   ]
  },
  {
   "cell_type": "code",
   "execution_count": null,
   "id": "fb5fdaf9",
   "metadata": {},
   "outputs": [],
   "source": [
    "#generate the alphanumeric ID\n",
    "\n",
    "import random, string\n",
    "#string.ascii_uppercase - if I wanted to do both\n",
    "x = ''.join(random.choice(string.ascii_lowercase + string.digits) for i in range(8))\n",
    "print(x)\n"
   ]
  },
  {
   "cell_type": "markdown",
   "id": "730f5431",
   "metadata": {},
   "source": [
    "n_points = 10000\n",
    "\n",
    "points = [] #should be an array or a series? since we are using pandas\n",
    "for i in range(n_points):\n"
   ]
  },
  {
   "cell_type": "code",
   "execution_count": null,
   "id": "54f94119",
   "metadata": {},
   "outputs": [],
   "source": [
    "import pandas as pd\n",
    "import random\n",
    "import random, string \n",
    "n_points = 10000\n",
    "\n",
    "x = ''.join(random.choice(string.digits) for _ in range(8))\n",
    "print(x)\n",
    "\n",
    "# dictionary to store the data\n",
    "\n",
    "#for n in range(10000):\n",
    "    #would a list comprehension be better? \n",
    "# np.random.rand(n_points)\n",
    "data = {\n",
    "    'ID': np.random.rand(n_points),\n",
    "    \"Absorbance\": \n",
    "}\n",
    "\n",
    "# Create a DataFrame from the dictionary\n",
    "df = pd.DataFrame(data)\n",
    "\n",
    "#how do we want to inspect the data? head() isn't really applicable here"
   ]
  },
  {
   "cell_type": "code",
   "execution_count": null,
   "id": "1700667d",
   "metadata": {},
   "outputs": [],
   "source": [
    "#https://towardsdatascience.com/what-are-quartiles-c3e117114cf1 \n",
    "\n",
    "#import libraries \n",
    "\n",
    "#data\n",
    "\n",
    "#create each quartile "
   ]
  },
  {
   "cell_type": "code",
   "execution_count": null,
   "id": "65696a5c",
   "metadata": {},
   "outputs": [],
   "source": [
    "#lineplot -- needs to be edited\n",
    "import seaborn as sns\n",
    "sns.set_theme(style=\"ticks\")\n",
    "\n",
    "# Define the palette as a list to specify exact values\n",
    "palette = sns.color_palette(\"rocket_r\")\n",
    "\n",
    "# Plot the lines on two facets\n",
    "sns.relplot(\n",
    "    data=drug_candidate,\n",
    "    x=\"Date\", y=\"Absorbance\",\n",
    "    size=\"Absorbance\",\n",
    "    kind=\"line\", size_order=[\"T1\", \"T2\"], palette=palette,\n",
    "    height=5, aspect=.75, facet_kws=dict(sharex=False),\n",
    ")\n",
    "#hue=\"coherence\",  col=\"align\", "
   ]
  },
  {
   "cell_type": "code",
   "execution_count": null,
   "id": "2c79a8f1",
   "metadata": {
    "scrolled": true
   },
   "outputs": [],
   "source": [
    "#without the ASCII\n",
    "import random, string\n",
    "#for \n",
    "x = ''.join(random.choice(string.digits) for i in range(8))\n",
    "print(x)"
   ]
  },
  {
   "cell_type": "code",
   "execution_count": null,
   "id": "f0f63bae",
   "metadata": {},
   "outputs": [],
   "source": [
    "#quick sample\n",
    "import pandas as pd\n",
    "import numpy as np \n",
    "\n",
    "data = {#'ID': generate_id(),\n",
    "        #'Drug': np.random.normal(0.4, 0.025, size=(0.2, 0.6)) \n",
    "        'Drug': np.random.normal(0.4, 0.025, size=None) \n",
    "        }\n",
    "\n",
    "df = pd.DataFrame(data)\n",
    "\n",
    "print(df)"
   ]
  },
  {
   "cell_type": "code",
   "execution_count": 1,
   "id": "a22bb4f5",
   "metadata": {},
   "outputs": [
    {
     "ename": "NameError",
     "evalue": "name 'drug_candidate' is not defined",
     "output_type": "error",
     "traceback": [
      "\u001b[1;31m---------------------------------------------------------------------------\u001b[0m",
      "\u001b[1;31mNameError\u001b[0m                                 Traceback (most recent call last)",
      "\u001b[1;32m~\\AppData\\Local\\Temp/ipykernel_10208/4229496288.py\u001b[0m in \u001b[0;36m<module>\u001b[1;34m\u001b[0m\n\u001b[0;32m      7\u001b[0m \u001b[1;33m\u001b[0m\u001b[0m\n\u001b[0;32m      8\u001b[0m \u001b[1;31m# Use JointGrid directly to draw a custom plot\u001b[0m\u001b[1;33m\u001b[0m\u001b[1;33m\u001b[0m\u001b[0m\n\u001b[1;32m----> 9\u001b[1;33m \u001b[0mg\u001b[0m \u001b[1;33m=\u001b[0m \u001b[0msns\u001b[0m\u001b[1;33m.\u001b[0m\u001b[0mJointGrid\u001b[0m\u001b[1;33m(\u001b[0m\u001b[0mdata\u001b[0m\u001b[1;33m=\u001b[0m\u001b[0mdrug_candidate\u001b[0m\u001b[1;33m,\u001b[0m \u001b[0mx\u001b[0m\u001b[1;33m=\u001b[0m\u001b[1;34m\"Date\"\u001b[0m\u001b[1;33m,\u001b[0m \u001b[0my\u001b[0m\u001b[1;33m=\u001b[0m\u001b[1;34m\"Absorbance\"\u001b[0m\u001b[1;33m,\u001b[0m \u001b[0mspace\u001b[0m\u001b[1;33m=\u001b[0m\u001b[1;36m0\u001b[0m\u001b[1;33m,\u001b[0m \u001b[0mratio\u001b[0m\u001b[1;33m=\u001b[0m\u001b[1;36m17\u001b[0m\u001b[1;33m)\u001b[0m\u001b[1;33m\u001b[0m\u001b[1;33m\u001b[0m\u001b[0m\n\u001b[0m\u001b[0;32m     10\u001b[0m g.plot_joint(sns.scatterplot, sizes=(30, 120),\n\u001b[0;32m     11\u001b[0m             color=\"g\", alpha=.6, legend=False, )\n",
      "\u001b[1;31mNameError\u001b[0m: name 'drug_candidate' is not defined"
     ]
    }
   ],
   "source": [
    " #NOT using but just wanted to keep \n",
    "    #jointgrid\n",
    "import pandas as pd\n",
    "import matplotlib.pyplot as plt\n",
    "import seaborn as sns\n",
    "sns.set_theme(style=\"white\", color_codes=True)\n",
    "\n",
    "# Use JointGrid directly to draw a custom plot\n",
    "g = sns.JointGrid(data=drug_candidate, x=\"Date\", y=\"Absorbance\", space=0, ratio=17)\n",
    "g.plot_joint(sns.scatterplot, sizes=(30, 120),\n",
    "             color=\"g\", alpha=.6, legend=False, )\n",
    "g.plot_marginals(sns.rugplot, height=1, color=\"g\", alpha=.6)\n",
    "\n",
    "g.set_ylim(0.15, 0.9)\n",
    "\n",
    "#Axes.set_xlim(self, left=None, right=None, emit=True, auto=False, *, xmin=None, xmax=None)\n",
    "\n",
    "#Axes.set_ylim(self, bottom=None, top=None, emit=True, auto=False, *, ymin=None, ymax=None)\n"
   ]
  },
  {
   "cell_type": "code",
   "execution_count": null,
   "id": "330bf088",
   "metadata": {},
   "outputs": [],
   "source": [
    "\n",
    "#export to a txt \n",
    "#insert header\n",
    "#with open(\"drug_candidate.txt\", 'w', newline= '', encoding= 'utf8') as f:\n",
    " #   for item in drug_candidate: \n",
    "   #     f.write(item + '\\n')"
   ]
  },
  {
   "cell_type": "code",
   "execution_count": null,
   "id": "ff33b245",
   "metadata": {},
   "outputs": [],
   "source": [
    "import pandas as pd\n",
    "import numpy as np\n",
    "import random, string\n",
    "\n",
    "\n",
    "#id = ''.join(random.choice(string.ascii_lowercase + string.digits) for i in range(8))\n",
    "# create a range of sample IDs\n",
    "#sample_ids = [f' ID {id}' for i in range(10000)] #this code doesnt work because it will not generate a new \n",
    "\n",
    "def generate_id():\n",
    "    return ''.join(random.choice(string.ascii_lowercase + string.digits) for i in range(8))\n",
    "\n",
    "# create a range of sample IDs\n",
    "sample_ids = [f'ID {generate_id()}' for i in range(10000)]\n",
    "\n",
    "#generate date\n",
    "date = pd.date_range('2023-01-03', '2023-01-31') # over the span of a month \n",
    "\n",
    "#generate temp\n",
    "temp = [np.random.uniform(21,24) for i in range(10000)] #these are decimals because that is the only way I could \n",
    "\n",
    "# generate in a range \n",
    "#absorbances = np.random.normal(0.15, 0.84, size=10000, a_min = None, a_max=1.4)\n",
    "absorbances = np.clip(np.random.normal(0.15, 0.84, size=10000), a_min = 0.15, a_max=1.0)\n",
    "\n",
    "#target_absorbances = (absorbances >= 0.35) & (absorbances <= 0.54)\n",
    "\n",
    "#sample = np.array(target_absorbances)[target_absorbances][:1000]\n",
    "\n",
    "# create a dataframe\n",
    "drug_candidate = pd.DataFrame({'Sample ID': sample_ids,\n",
    "                     'Temp': temp,\n",
    "                     'Date': np.random.choice(date, size=10000), # had to add a size because other generated the same date\n",
    "                     'Absorbance': np.random.choice(absorbances, size=10000)})\n",
    "\n",
    "\n",
    "\n",
    "#data.to_csv(index=False)\n",
    "\n",
    "#print(target_absorbances)\n",
    "#dirtying int the data \n",
    "    #randomly insert null values \n",
    "        # set the probability of a cell being set to NA\n",
    "#def insert_null_data(dataset): #don't believe this needs a parameter\n",
    "   # probability = 0.03 #want to keep the number small \n",
    "# loop through the DataFrame and set some values to NA\n",
    "   # for i in range(len(drug_candidate)\n",
    "      #  for col in drug_candidate.columns:\n",
    "       #     if random.random() < probability:\n",
    "          #       df.at[i, col] = np.nan #.loc doesn't really apply here \n",
    "\n",
    "\n",
    "#insert_null_data(drug_candidate)\n",
    "# print(data)\n",
    "\n",
    "#export to a txt \n",
    "#insert header\n",
    "#with open(\"drug_candidate.txt\", 'w', newline= '', encoding= 'utf8') as f:\n",
    " #   for item in drug_candidate: \n",
    "   #     f.write(item + '\\n')\n",
    "        \n",
    "drug_candidate.to_csv('drug_candidate.txt', sep='\\t', index=False, header=[\"Sample ID\",\"Temp\",\"Date\",\"Absorbance\"])\n",
    "\n",
    "drug_candidate.to_csv('drug_candidate.csv', sep='\\t', index=False, header=[\"Sample ID\",\"Temp\",\"Date\",\"Absorbance\"])\n",
    "\n",
    "#df = drug_candidate.apply(insert_null_data(drug_candidate))\n",
    "#print(df)\n",
    "\n"
   ]
  },
  {
   "cell_type": "code",
   "execution_count": null,
   "id": "15a1dcc7",
   "metadata": {},
   "outputs": [],
   "source": [
    "import seaborn as sns\n",
    "import matplotlib.pyplot as plt\n",
    "\n",
    "# Load a dataset\n",
    "tips = sns.load_dataset(\"tips\")\n",
    "\n",
    "# Create a seaborn scatter plot\n",
    "sns.scatterplot(data=drug_cand, x=\"\", y=\"Temp\", hue=\"day\", size=\"Absorbance\")\n",
    "\n",
    "# Highlight a range of dots\n",
    "sns.scatterplot(data=tips[(tips[\"total_bill\"] >= 20) & (tips[\"total_bill\"] <= 30)], x=\"total_bill\", y=\"tip\", hue=\"day\", size=\"size\", palette=[\"gray\"], marker=\"o\", edgecolor=\"black\", linewidth=0.5)"
   ]
  }
 ],
 "metadata": {
  "kernelspec": {
   "display_name": "Python 3 (ipykernel)",
   "language": "python",
   "name": "python3"
  },
  "language_info": {
   "codemirror_mode": {
    "name": "ipython",
    "version": 3
   },
   "file_extension": ".py",
   "mimetype": "text/x-python",
   "name": "python",
   "nbconvert_exporter": "python",
   "pygments_lexer": "ipython3",
   "version": "3.9.7"
  }
 },
 "nbformat": 4,
 "nbformat_minor": 5
}
